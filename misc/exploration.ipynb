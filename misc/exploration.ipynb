{
 "cells": [
  {
   "cell_type": "markdown",
   "id": "8f2b79a5",
   "metadata": {},
   "source": [
    "# Imports"
   ]
  },
  {
   "cell_type": "code",
   "execution_count": 1,
   "id": "9c8dca41",
   "metadata": {},
   "outputs": [],
   "source": [
    "import pandas as pd"
   ]
  },
  {
   "cell_type": "markdown",
   "id": "021b787c",
   "metadata": {},
   "source": [
    "# ETL"
   ]
  },
  {
   "cell_type": "code",
   "execution_count": 3,
   "id": "ab46e7be",
   "metadata": {},
   "outputs": [],
   "source": [
    "df_bixi14 = pd.read_csv('./OD_2014.csv')\n",
    "df_bixi_station14 = pd.read_csv('./Stations_2014.csv')"
   ]
  },
  {
   "cell_type": "code",
   "execution_count": 4,
   "id": "bd8c939d",
   "metadata": {},
   "outputs": [
    {
     "name": "stdout",
     "output_type": "stream",
     "text": [
      "<class 'pandas.core.frame.DataFrame'>\n",
      "RangeIndex: 3136276 entries, 0 to 3136275\n",
      "Data columns (total 7 columns):\n",
      " #   Column              Dtype \n",
      "---  ------              ----- \n",
      " 0   Unnamed: 0          int64 \n",
      " 1   start_date          object\n",
      " 2   start_station_code  int64 \n",
      " 3   end_date            object\n",
      " 4   end_station_code    int64 \n",
      " 5   duration_sec        int64 \n",
      " 6   is_member           int64 \n",
      "dtypes: int64(5), object(2)\n",
      "memory usage: 167.5+ MB\n",
      "<class 'pandas.core.frame.DataFrame'>\n",
      "Int64Index: 3136276 entries, 0 to 3136275\n",
      "Data columns (total 6 columns):\n",
      " #   Column              Dtype         \n",
      "---  ------              -----         \n",
      " 0   start_date          datetime64[ns]\n",
      " 1   start_station_code  int16         \n",
      " 2   end_date            datetime64[ns]\n",
      " 3   end_station_code    int16         \n",
      " 4   duration_sec        int64         \n",
      " 5   is_member           int64         \n",
      "dtypes: datetime64[ns](2), int16(2), int64(2)\n",
      "memory usage: 131.6 MB\n"
     ]
    }
   ],
   "source": [
    "df_bixi14.info()\n",
    "df_bixi14 = df_bixi14.drop(columns=[\"Unnamed: 0\"])# Elimino la columna unnamed\n",
    "# cambio a integer y datetime varias columnas\n",
    "df_bixi14['start_station_code'] = pd.to_numeric(df_bixi14['start_station_code'] , errors='coerce' , downcast='integer')\n",
    "df_bixi14['end_station_code'] = pd.to_numeric(df_bixi14['end_station_code'] , errors='coerce' , downcast='integer')\n",
    "df_bixi14['start_date'] = pd.to_datetime(df_bixi14['start_date'])\n",
    "df_bixi14['end_date'] = pd.to_datetime(df_bixi14['end_date'])\n",
    "df_bixi14 = df_bixi14.dropna() # drop de valores null\n",
    "df_bixi14.info()"
   ]
  },
  {
   "cell_type": "markdown",
   "id": "73e4343e",
   "metadata": {},
   "source": [
    "# Histograma"
   ]
  },
  {
   "cell_type": "code",
   "execution_count": 5,
   "id": "4b53392c",
   "metadata": {},
   "outputs": [
    {
     "data": {
      "text/plain": [
       "array([[<AxesSubplot:title={'center':'duration_sec'}>]], dtype=object)"
      ]
     },
     "execution_count": 5,
     "metadata": {},
     "output_type": "execute_result"
    },
    {
     "data": {
      "image/png": "[encoded data removed]",
      "text/plain": [
       "<Figure size 432x288 with 1 Axes>"
      ]
     },
     "metadata": {
      "needs_background": "light"
     },
     "output_type": "display_data"
    }
   ],
   "source": [
    "df_bixi14.hist(column='duration_sec') #Histograma"
   ]
  },
  {
   "cell_type": "code",
   "execution_count": 6,
   "id": "f326c3e4",
   "metadata": {},
   "outputs": [
    {
     "data": {
      "text/plain": [
       "6184    45600\n",
       "6078    33241\n",
       "6064    32055\n",
       "6214    28224\n",
       "6100    27072\n",
       "6221    24448\n",
       "6012    24274\n",
       "6248    22578\n",
       "6186    22279\n",
       "6154    21799\n",
       "Name: start_station_code, dtype: int64"
      ]
     },
     "execution_count": 6,
     "metadata": {},
     "output_type": "execute_result"
    }
   ],
   "source": [
    "df_bixi14['start_station_code'].value_counts().nlargest(10) #top 10 estacion partida"
   ]
  },
  {
   "cell_type": "code",
   "execution_count": 7,
   "id": "e21e41ea",
   "metadata": {},
   "outputs": [
    {
     "data": {
      "text/plain": [
       "6184    43765\n",
       "6078    39310\n",
       "6064    34819\n",
       "6012    34664\n",
       "6015    31664\n",
       "6034    27886\n",
       "6100    26837\n",
       "6043    24032\n",
       "6032    23123\n",
       "6009    21978\n",
       "Name: end_station_code, dtype: int64"
      ]
     },
     "execution_count": 7,
     "metadata": {},
     "output_type": "execute_result"
    }
   ],
   "source": [
    "df_bixi14['end_station_code'].value_counts().nlargest(10) # top 10 estación llegada"
   ]
  },
  {
   "cell_type": "code",
   "execution_count": 10,
   "id": "4d8ce2da",
   "metadata": {},
   "outputs": [
    {
     "data": {
      "text/plain": [
       "start_station_code  end_station_code\n",
       "6501                6501                2853\n",
       "6026                6026                1809\n",
       "6155                6184                1670\n",
       "6154                6184                1660\n",
       "6064                6100                1629\n",
       "6396                6398                1617\n",
       "6184                6155                1546\n",
       "                    6154                1493\n",
       "6064                6194                1413\n",
       "6100                6064                1393\n",
       "Name: end_station_code, dtype: int64"
      ]
     },
     "execution_count": 10,
     "metadata": {},
     "output_type": "execute_result"
    }
   ],
   "source": [
    "df_bixi14.groupby('start_station_code')['end_station_code'].value_counts().nlargest(10) #Top 10 viajes"
   ]
  },
  {
   "cell_type": "code",
   "execution_count": 44,
   "id": "02a4d1e9",
   "metadata": {},
   "outputs": [
    {
     "data": {
      "text/plain": [
       "17:09:00    6588\n",
       "17:07:00    6556\n",
       "17:08:00    6533\n",
       "17:11:00    6480\n",
       "17:10:00    6446\n",
       "            ... \n",
       "18:02:00    4702\n",
       "18:13:00    4670\n",
       "16:55:00    4645\n",
       "08:37:00    4627\n",
       "16:50:00    4626\n",
       "Name: start_date, Length: 100, dtype: int64"
      ]
     },
     "execution_count": 44,
     "metadata": {},
     "output_type": "execute_result"
    }
   ],
   "source": [
    "df_bixi14['start_date'].dt.time.value_counts().nlargest(100) # Hora punta"
   ]
  },
  {
   "cell_type": "code",
   "execution_count": 45,
   "id": "444de587",
   "metadata": {},
   "outputs": [
    {
     "data": {
      "text/plain": [
       "17:27:00    6024\n",
       "17:24:00    6017\n",
       "17:35:00    6003\n",
       "17:26:00    5993\n",
       "17:23:00    5989\n",
       "            ... \n",
       "08:50:00    4732\n",
       "18:19:00    4729\n",
       "16:54:00    4727\n",
       "08:51:00    4720\n",
       "17:04:00    4719\n",
       "Name: end_date, Length: 100, dtype: int64"
      ]
     },
     "execution_count": 45,
     "metadata": {},
     "output_type": "execute_result"
    }
   ],
   "source": [
    "df_bixi14['end_date'].dt.time.value_counts().nlargest(100) #Hora punta"
   ]
  }
 ],
 "metadata": {
  "kernelspec": {
   "display_name": "Python 3",
   "language": "python",
   "name": "python3"
  },
  "language_info": {
   "codemirror_mode": {
    "name": "ipython",
    "version": 3
   },
   "file_extension": ".py",
   "mimetype": "text/x-python",
   "name": "python",
   "nbconvert_exporter": "python",
   "pygments_lexer": "ipython3",
   "version": "3.8.8"
  }
 },
 "nbformat": 4,
 "nbformat_minor": 5
}