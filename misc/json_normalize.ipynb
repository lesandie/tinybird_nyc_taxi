{
 "cells": [
  {
   "cell_type": "markdown",
   "id": "d2863cea",
   "metadata": {},
   "source": [
    "# Imports y ETL"
   ]
  },
  {
   "cell_type": "code",
   "execution_count": 1,
   "id": "9c8dca41",
   "metadata": {},
   "outputs": [],
   "source": [
    "import pandas as pd\n",
    "import json"
   ]
  },
  {
   "cell_type": "code",
   "execution_count": 2,
   "id": "ab46e7be",
   "metadata": {},
   "outputs": [
    {
     "name": "stdout",
     "output_type": "stream",
     "text": [
      "<class 'pandas.core.frame.DataFrame'>\n",
      "RangeIndex: 919 entries, 0 to 918\n",
      "Data columns (total 4 columns):\n",
      " #   Column     Non-Null Count  Dtype  \n",
      "---  ------     --------------  -----  \n",
      " 0   code       919 non-null    int64  \n",
      " 1   name       919 non-null    object \n",
      " 2   latitude   919 non-null    float64\n",
      " 3   longitude  919 non-null    float64\n",
      "dtypes: float64(2), int64(1), object(1)\n",
      "memory usage: 28.8+ KB\n"
     ]
    }
   ],
   "source": [
    "df_bixi14 = pd.read_csv('./OD_2014.csv')\n",
    "df_bixi_station14 = pd.read_csv('./Stations_2014.csv')\n",
    "df_bixi15 = pd.read_csv('./OD_2015.csv')\n",
    "df_bixi_station15 = pd.read_csv('./Stations_2015.csv')\n",
    "df_bixi2y = df_bixi14.append([df_bixi15] , ignore_index=True) #Join de años 2014 y 2015"
   ]
  },
  {
   "cell_type": "code",
   "execution_count": 3,
   "id": "bd8c939d",
   "metadata": {},
   "outputs": [
    {
     "name": "stdout",
     "output_type": "stream",
     "text": [
      "<class 'pandas.core.frame.DataFrame'>\n",
      "RangeIndex: 6580159 entries, 0 to 6580158\n",
      "Data columns (total 7 columns):\n",
      " #   Column              Dtype \n",
      "---  ------              ----- \n",
      " 0   Unnamed: 0          int64 \n",
      " 1   start_date          object\n",
      " 2   start_station_code  int64 \n",
      " 3   end_date            object\n",
      " 4   end_station_code    int64 \n",
      " 5   duration_sec        int64 \n",
      " 6   is_member           int64 \n",
      "dtypes: int64(5), object(2)\n",
      "memory usage: 351.4+ MB\n",
      "<class 'pandas.core.frame.DataFrame'>\n",
      "Int64Index: 6580159 entries, 0 to 6580158\n",
      "Data columns (total 6 columns):\n",
      " #   Column              Dtype         \n",
      "---  ------              -----         \n",
      " 0   start_date          datetime64[ns]\n",
      " 1   start_station_code  int16         \n",
      " 2   end_date            datetime64[ns]\n",
      " 3   end_station_code    int16         \n",
      " 4   duration_sec        int64         \n",
      " 5   is_member           int64         \n",
      "dtypes: datetime64[ns](2), int16(2), int64(2)\n",
      "memory usage: 276.1 MB\n"
     ]
    }
   ],
   "source": [
    "df_bixi2y.info()\n",
    "df_bixi2y = df_bixi2y.drop(columns=[\"Unnamed: 0\"])# Elimino la columna unnamed\n",
    "# cambio a integer y datetime varias columnas\n",
    "df_bixi2y['start_station_code'] = pd.to_numeric(df_bixi2y['start_station_code'] , errors='coerce' , downcast='integer')\n",
    "df_bixi2y['end_station_code'] = pd.to_numeric(df_bixi2y['end_station_code'] , errors='coerce' , downcast='integer')\n",
    "df_bixi2y['start_date'] = pd.to_datetime(df_bixi2y['start_date'])\n",
    "df_bixi2y['end_date'] = pd.to_datetime(df_bixi2y['end_date'])\n",
    "df_bixi2y = df_bixi2y.dropna() # drop de valores null\n",
    "df_bixi2y.info()\n",
    "df_bixi2y_stations['code'] = pd.to_numeric(df_bixi2y_stations['code'] , errors='coerce' , downcast='integer')"
   ]
  },
  {
   "cell_type": "code",
   "execution_count": 4,
   "id": "4b53392c",
   "metadata": {},
   "outputs": [],
   "source": [
    "#Añado nuevas columnas para poder agrupar y calcular agregados\n",
    "df_bixi2y['year_month'] = df_bixi2y.start_date.dt.to_period('M') #año y mes\n",
    "df_bixi2y['year'] = df_bixi2y.start_date.dt.year #año\n",
    "df_bixi2y['month'] = df_bixi2y.start_date.dt.month #mes\n",
    "df_bixi2y['day'] = df_bixi2y.start_date.dt.dayofweek #dia semana\n",
    "df_bixi2y['hour'] = df_bixi2y.start_date.dt.time #hora"
   ]
  },
  {
   "cell_type": "code",
   "execution_count": 5,
   "id": "f326c3e4",
   "metadata": {},
   "outputs": [
    {
     "name": "stdout",
     "output_type": "stream",
     "text": [
      "<class 'pandas.core.frame.DataFrame'>\n",
      "Int64Index: 6580159 entries, 0 to 6580158\n",
      "Data columns (total 11 columns):\n",
      " #   Column              Dtype         \n",
      "---  ------              -----         \n",
      " 0   start_date          datetime64[ns]\n",
      " 1   start_station_code  int16         \n",
      " 2   end_date            datetime64[ns]\n",
      " 3   end_station_code    int16         \n",
      " 4   duration_sec        int64         \n",
      " 5   is_member           int64         \n",
      " 6   year_month          period[M]     \n",
      " 7   year                int64         \n",
      " 8   month               int64         \n",
      " 9   day                 int64         \n",
      " 10  hour                object        \n",
      "dtypes: datetime64[ns](2), int16(2), int64(5), object(1), period[M](1)\n",
      "memory usage: 527.1+ MB\n"
     ]
    }
   ],
   "source": [
    "df_bixi2y.info()"
   ]
  },
  {
   "cell_type": "markdown",
   "id": "34b2ef51",
   "metadata": {},
   "source": [
    "# Utilización del sistema"
   ]
  },
  {
   "cell_type": "code",
   "execution_count": 6,
   "id": "e21e41ea",
   "metadata": {},
   "outputs": [
    {
     "data": {
      "text/plain": [
       "year\n",
       "2014    3136276\n",
       "2015    3443883\n",
       "Name: start_station_code, dtype: int64"
      ]
     },
     "execution_count": 6,
     "metadata": {},
     "output_type": "execute_result"
    }
   ],
   "source": [
    "df_bixi2y.groupby(by=['year'])['start_station_code'].count() # cantidad de viajes totales"
   ]
  },
  {
   "cell_type": "code",
   "execution_count": 36,
   "id": "0db21e47",
   "metadata": {},
   "outputs": [
    {
     "data": {
      "text/plain": [
       "Index(['start_date', 'start_station_code', 'end_date', 'end_station_code',\n",
       "       'duration_sec', 'is_member', 'year_month', 'year', 'month', 'day',\n",
       "       'hour'],\n",
       "      dtype='object')"
      ]
     },
     "execution_count": 36,
     "metadata": {},
     "output_type": "execute_result"
    }
   ],
   "source": [
    "df_bixi2y.groupby(by=['year'])['duration_sec'].sum()/3600 # tiempo utilización sistema en h"
   ]
  },
  {
   "cell_type": "markdown",
   "id": "714e290b",
   "metadata": {},
   "source": [
    "# Capacidad instalada total"
   ]
  },
  {
   "cell_type": "code",
   "execution_count": 18,
   "id": "b9ff45b9",
   "metadata": {
    "scrolled": false
   },
   "outputs": [
    {
     "data": {
      "text/html": [
       "<div>\n",
       "<style scoped>\n",
       "    .dataframe tbody tr th:only-of-type {\n",
       "        vertical-align: middle;\n",
       "    }\n",
       "\n",
       "    .dataframe tbody tr th {\n",
       "        vertical-align: top;\n",
       "    }\n",
       "\n",
       "    .dataframe thead th {\n",
       "        text-align: right;\n",
       "    }\n",
       "</style>\n",
       "<table border=\"1\" class=\"dataframe\">\n",
       "  <thead>\n",
       "    <tr style=\"text-align: right;\">\n",
       "      <th></th>\n",
       "      <th>id</th>\n",
       "      <th>s</th>\n",
       "      <th>n</th>\n",
       "      <th>st</th>\n",
       "      <th>b</th>\n",
       "      <th>su</th>\n",
       "      <th>m</th>\n",
       "      <th>lu</th>\n",
       "      <th>lc</th>\n",
       "      <th>bk</th>\n",
       "      <th>bl</th>\n",
       "      <th>la</th>\n",
       "      <th>lo</th>\n",
       "      <th>da</th>\n",
       "      <th>dx</th>\n",
       "      <th>ba</th>\n",
       "      <th>bx</th>\n",
       "    </tr>\n",
       "  </thead>\n",
       "  <tbody>\n",
       "    <tr>\n",
       "      <th>0</th>\n",
       "      <td>1</td>\n",
       "      <td>HÃ´tel-de-Ville 2 (du Champs-de-Mars / Gosford)</td>\n",
       "      <td>6001</td>\n",
       "      <td>1</td>\n",
       "      <td>False</td>\n",
       "      <td>False</td>\n",
       "      <td>False</td>\n",
       "      <td>1510061994757</td>\n",
       "      <td>1510070565576</td>\n",
       "      <td>False</td>\n",
       "      <td>False</td>\n",
       "      <td>45.509328</td>\n",
       "      <td>-73.554347</td>\n",
       "      <td>0</td>\n",
       "      <td>0</td>\n",
       "      <td>15</td>\n",
       "      <td>0</td>\n",
       "    </tr>\n",
       "    <tr>\n",
       "      <th>1</th>\n",
       "      <td>2</td>\n",
       "      <td>Ste-Catherine / DÃ©zÃ©ry</td>\n",
       "      <td>6002</td>\n",
       "      <td>1</td>\n",
       "      <td>False</td>\n",
       "      <td>False</td>\n",
       "      <td>False</td>\n",
       "      <td>1510065732418</td>\n",
       "      <td>1510070446412</td>\n",
       "      <td>False</td>\n",
       "      <td>False</td>\n",
       "      <td>45.539292</td>\n",
       "      <td>-73.541031</td>\n",
       "      <td>11</td>\n",
       "      <td>0</td>\n",
       "      <td>12</td>\n",
       "      <td>0</td>\n",
       "    </tr>\n",
       "    <tr>\n",
       "      <th>2</th>\n",
       "      <td>3</td>\n",
       "      <td>Clark / Evans</td>\n",
       "      <td>6003</td>\n",
       "      <td>1</td>\n",
       "      <td>False</td>\n",
       "      <td>False</td>\n",
       "      <td>False</td>\n",
       "      <td>1510069557891</td>\n",
       "      <td>1510070398986</td>\n",
       "      <td>False</td>\n",
       "      <td>False</td>\n",
       "      <td>45.511132</td>\n",
       "      <td>-73.567907</td>\n",
       "      <td>11</td>\n",
       "      <td>0</td>\n",
       "      <td>8</td>\n",
       "      <td>0</td>\n",
       "    </tr>\n",
       "    <tr>\n",
       "      <th>3</th>\n",
       "      <td>4</td>\n",
       "      <td>HÃ´tel-de-Ville (du Champs-de-Mars / Gosford)</td>\n",
       "      <td>6004</td>\n",
       "      <td>1</td>\n",
       "      <td>False</td>\n",
       "      <td>False</td>\n",
       "      <td>False</td>\n",
       "      <td>1510069651843</td>\n",
       "      <td>1510070613361</td>\n",
       "      <td>False</td>\n",
       "      <td>False</td>\n",
       "      <td>45.509188</td>\n",
       "      <td>-73.554580</td>\n",
       "      <td>9</td>\n",
       "      <td>0</td>\n",
       "      <td>26</td>\n",
       "      <td>0</td>\n",
       "    </tr>\n",
       "    <tr>\n",
       "      <th>4</th>\n",
       "      <td>6</td>\n",
       "      <td>18e avenue / Rosemont</td>\n",
       "      <td>6006</td>\n",
       "      <td>1</td>\n",
       "      <td>False</td>\n",
       "      <td>False</td>\n",
       "      <td>False</td>\n",
       "      <td>1510062707620</td>\n",
       "      <td>1510070500075</td>\n",
       "      <td>False</td>\n",
       "      <td>False</td>\n",
       "      <td>45.557895</td>\n",
       "      <td>-73.576529</td>\n",
       "      <td>9</td>\n",
       "      <td>0</td>\n",
       "      <td>14</td>\n",
       "      <td>0</td>\n",
       "    </tr>\n",
       "  </tbody>\n",
       "</table>\n",
       "</div>"
      ],
      "text/plain": [
       "   id                                                s     n  st      b  \\\n",
       "0   1  HÃ´tel-de-Ville 2 (du Champs-de-Mars / Gosford)  6001   1  False   \n",
       "1   2                         Ste-Catherine / DÃ©zÃ©ry  6002   1  False   \n",
       "2   3                                    Clark / Evans  6003   1  False   \n",
       "3   4    HÃ´tel-de-Ville (du Champs-de-Mars / Gosford)  6004   1  False   \n",
       "4   6                            18e avenue / Rosemont  6006   1  False   \n",
       "\n",
       "      su      m             lu             lc     bk     bl         la  \\\n",
       "0  False  False  1510061994757  1510070565576  False  False  45.509328   \n",
       "1  False  False  1510065732418  1510070446412  False  False  45.539292   \n",
       "2  False  False  1510069557891  1510070398986  False  False  45.511132   \n",
       "3  False  False  1510069651843  1510070613361  False  False  45.509188   \n",
       "4  False  False  1510062707620  1510070500075  False  False  45.557895   \n",
       "\n",
       "          lo  da  dx  ba  bx  \n",
       "0 -73.554347   0   0  15   0  \n",
       "1 -73.541031  11   0  12   0  \n",
       "2 -73.567907  11   0   8   0  \n",
       "3 -73.554580   9   0  26   0  \n",
       "4 -73.576529   9   0  14   0  "
      ]
     },
     "execution_count": 18,
     "metadata": {},
     "output_type": "execute_result"
    }
   ],
   "source": [
    "f_stat = open(r'./stations.json') # abrimos el fichero json\n",
    "stat_json = json.load(f_stat)\n",
    "df_stats = pd.json_normalize(stat_json, record_path=['stations']) # lo normalizamos ya que tiene una lista anidada\n",
    "f_stat.close() # cerramos el descriptor del fichero json\n",
    "df_stats.head()"
   ]
  },
  {
   "cell_type": "code",
   "execution_count": 39,
   "id": "6b75f192",
   "metadata": {
    "scrolled": true
   },
   "outputs": [
    {
     "data": {
      "text/plain": [
       "4925"
      ]
     },
     "execution_count": 39,
     "metadata": {},
     "output_type": "execute_result"
    }
   ],
   "source": [
    "df_stats['ba'].sum() # Suma de todas las capacidades de las estaciones\n"
   ]
  }
 ],
 "metadata": {
  "kernelspec": {
   "display_name": "Python 3",
   "language": "python",
   "name": "python3"
  },
  "language_info": {
   "codemirror_mode": {
    "name": "ipython",
    "version": 3
   },
   "file_extension": ".py",
   "mimetype": "text/x-python",
   "name": "python",
   "nbconvert_exporter": "python",
   "pygments_lexer": "ipython3",
   "version": "3.8.8"
  }
 },
 "nbformat": 4,
 "nbformat_minor": 5
}
